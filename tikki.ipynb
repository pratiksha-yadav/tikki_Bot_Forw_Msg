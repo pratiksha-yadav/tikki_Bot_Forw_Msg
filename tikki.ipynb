{
  "nbformat": 4,
  "nbformat_minor": 0,
  "metadata": {
    "colab": {
      "name": "tikki.ipynb",
      "provenance": [],
      "authorship_tag": "ABX9TyMr5JdHCrQUNUS1Z643Sx9S",
      "include_colab_link": true
    },
    "kernelspec": {
      "name": "python3",
      "display_name": "Python 3"
    },
    "language_info": {
      "name": "python"
    }
  },
  "cells": [
    {
      "cell_type": "markdown",
      "metadata": {
        "id": "view-in-github",
        "colab_type": "text"
      },
      "source": [
        "<a href=\"https://colab.research.google.com/github/pratiksha-yadav/tikki_Bot_Forw_Msg/blob/main/tikki.ipynb\" target=\"_parent\"><img src=\"https://colab.research.google.com/assets/colab-badge.svg\" alt=\"Open In Colab\"/></a>"
      ]
    },
    {
      "cell_type": "markdown",
      "source": [
        "Read from source return raw response"
      ],
      "metadata": {
        "id": "ngpMTDMr4k0Y"
      }
    },
    {
      "cell_type": "code",
      "source": [
        "import requests\n",
        "\n",
        "base_url = \"https://api.telegram.org/bot5319312424:AAGc_iud0qd8-QTcZSpq1Jhqb-fwkJgyurE/getUpdates\"\n",
        "\n",
        "parameters = {\n",
        "    \"offset\" : \"994059489\"\n",
        "}\n",
        "\n",
        "resp = requests.get(base_url, data = parameters)\n",
        "print(resp.text)\n"
      ],
      "metadata": {
        "colab": {
          "base_uri": "https://localhost:8080/"
        },
        "id": "9TcHZa7V3ggP",
        "outputId": "fe09cc57-db42-49d7-fe2a-1417da685541"
      },
      "execution_count": null,
      "outputs": [
        {
          "output_type": "stream",
          "name": "stdout",
          "text": [
            "{\"ok\":true,\"result\":[{\"update_id\":118845934,\n",
            "\"channel_post\":{\"message_id\":3,\"sender_chat\":{\"id\":-1001781127688,\"title\":\"Source\",\"type\":\"channel\"},\"chat\":{\"id\":-1001781127688,\"title\":\"Source\",\"type\":\"channel\"},\"date\":1653638418,\"text\":\"Coin:ETCUSDTPERP^^Direction: Long^^Price: 22.691\"}}]}\n"
          ]
        }
      ]
    },
    {
      "cell_type": "markdown",
      "source": [
        "Read msg from Source Channel"
      ],
      "metadata": {
        "id": "1CY4rSxj3RrH"
      }
    },
    {
      "cell_type": "code",
      "source": [
        "import requests,json\n",
        "\n",
        "base_url = \"https://api.telegram.org/bot5319312424:AAGc_iud0qd8-QTcZSpq1Jhqb-fwkJgyurE\"\n",
        "\n",
        "def format_msg(msg_dict):\n",
        "\n",
        "  Target_1 = ((1/100)*msg_dict['Price'])+msg_dict['Price']\n",
        "  Target_2 = ((2/100)*msg_dict['Price'])+msg_dict['Price']\n",
        "  Target_3 = ((3/100)*msg_dict['Price'])+msg_dict['Price']\n",
        "  Target_4 = ((4/100)*msg_dict['Price'])+msg_dict['Price']\n",
        "  Target_5 = ((5/100)*msg_dict['Price'])+msg_dict['Price']\n",
        "  Target_6 = ((6/100)*msg_dict['Price'])+msg_dict['Price']\n",
        "\n",
        "  Stop_Loss = msg_dict['Price']-((2/100)*msg_dict['Price'])\n",
        "  \n",
        "  txt_Message=\"⚡⚡#{coin}⚡⚡\\n\\\n",
        "Exchange: Binance Futures\\n\\\n",
        "Signal Type: Regular ({Direction})\\n\\\n",
        "Leverage: 20X\\n\\\n",
        "Amount: 5.0%\\n\\n\\\n",
        "Enter {Direction_metric}: {Price}\\n\\n\\\n",
        "Take-Profit Targets:\\n\\n\\\n",
        "🔘Target 1: {Target_1}\\n\\\n",
        "🔘Target 2: {Target_2}\\n\\\n",
        "🔘Target 3: {Target_3}\\n\\\n",
        "🔘Target 4: {Target_4}\\n\\\n",
        "🔘Target 5: {Target_5}\\n\\\n",
        "🔘Target 6: {Target_6}\\n\\n\\\n",
        "🚫Stop Loss: {Stop_Loss}\\\n",
        "\".format(coin=msg_dict['Coin'],\n",
        "  Direction=msg_dict['Direction'],\n",
        "  Price=msg_dict['Price'],\n",
        "  Direction_metric=msg_dict['Direction_metric'],\n",
        "  Target_1=Target_1,\n",
        "  Target_2=Target_2,\n",
        "  Target_3=Target_3,\n",
        "  Target_4=Target_4,\n",
        "  Target_5=Target_5,\n",
        "  Target_6=Target_6,\n",
        "  Stop_Loss=Stop_Loss)\n",
        "\n",
        "\n",
        "  print(txt_Message)\n",
        "  send_msg_forward(txt_Message) #step 3 \n",
        " \n",
        "def send_msg_forward(msg):\n",
        "  base_url = \"https://api.telegram.org/bot5319312424:AAGc_iud0qd8-QTcZSpq1Jhqb-fwkJgyurE/sendMessage\"\n",
        "  \n",
        "  print(\"++++++++++++++++next ++++++++++++++++++++++++++++\")\n",
        "  parameters = {\n",
        "    \"chat_id\" : \"-1001781127688\",\n",
        "    \"text\" : msg\n",
        "  }\n",
        "  resp = requests.get(base_url, data = parameters)\n",
        "  print(resp.text)\n",
        "\n",
        "def read_msg():\n",
        "  \n",
        "  parameters = {\n",
        "      \"offset\" : \"869775200\"\n",
        "  }\n",
        "\n",
        "  resp = requests.get(base_url + \"/getUpdates\", data = parameters)\n",
        "  data = resp.json()\n",
        "  \n",
        "  for result in data[\"result\"]:\n",
        "    #print(result['channel_post']['text'])\n",
        "    store = result['channel_post']['text']\n",
        "    break\n",
        "  splits = store.split('^^')\n",
        "  \n",
        "  Coin = str(splits[0].split(':')[1]).strip()\n",
        "  Direction = str(splits[1].split(':')[1]).strip()\n",
        "  Price= float(str(splits[2].split(':')[1]).strip()) \n",
        "  msg_dict = {}\n",
        "  msg_dict={\n",
        "    'Coin': 'abc',\n",
        "    'Direction': 'abc',\n",
        "    'Price': 5,\n",
        "    'Direction_metric' : \"Below\"\n",
        "  }\n",
        "  msg_dict['Coin']=Coin\n",
        "  msg_dict['Direction']=Direction\n",
        "  msg_dict['Price']=Price\n",
        "  \n",
        "  if (msg_dict['Direction'] == \"long\" or msg_dict['Direction'] == \"Long\"):\n",
        "    msg_dict['Direction_metric']=\"Above\"\n",
        "    msg_dict['Direction']=\"long\"+\"🚀\"\n",
        "  elif (msg_dict['Direction'] == \"short\" or msg_dict['Direction'] == \"Short\"):\n",
        "    msg_dict['Direction_metric']=\"Below\"\n",
        "    msg_dict['Direction']=\"short\"+\"🐻\"\n",
        "    \n",
        "  # print(msg_dict)\n",
        "\n",
        "  format_msg(msg_dict)   #step 2 convert dict to string message\n",
        "  \n",
        "read_msg() #step 1 should get text from json response\n",
        "\n",
        "\n"
      ],
      "metadata": {
        "colab": {
          "base_uri": "https://localhost:8080/"
        },
        "id": "RBHGUPaM10AD",
        "outputId": "69c0024c-56ad-43b5-b82d-3e85f7b1e99d"
      },
      "execution_count": 54,
      "outputs": [
        {
          "output_type": "stream",
          "name": "stdout",
          "text": [
            "⚡⚡#ETCUSDTPERP⚡⚡\n",
            "Exchange: Binance Futures\n",
            "Signal Type: Regular (long🚀)\n",
            "Leverage: 20X\n",
            "Amount: 5.0%\n",
            "\n",
            "Enter Above: 22.691\n",
            "\n",
            "Take-Profit Targets:\n",
            "\n",
            "🔘Target 1: 22.91791\n",
            "🔘Target 2: 23.14482\n",
            "🔘Target 3: 23.37173\n",
            "🔘Target 4: 23.59864\n",
            "🔘Target 5: 23.82555\n",
            "🔘Target 6: 24.05246\n",
            "\n",
            "🚫Stop Loss: 22.23718\n",
            "++++++++++++++++next ++++++++++++++++++++++++++++\n",
            "{\"ok\":true,\"result\":{\"message_id\":58,\"sender_chat\":{\"id\":-1001781127688,\"title\":\"Source\",\"type\":\"channel\"},\"chat\":{\"id\":-1001781127688,\"title\":\"Source\",\"type\":\"channel\"},\"date\":1653658246,\"text\":\"\\u26a1\\u26a1#ETCUSDTPERP\\u26a1\\u26a1\\nExchange: Binance Futures\\nSignal Type: Regular (long\\ud83d\\ude80)\\nLeverage: 20X\\nAmount: 5.0%\\n\\nEnter Above: 22.691\\n\\nTake-Profit Targets:\\n\\n\\ud83d\\udd18Target 1: 22.91791\\n\\ud83d\\udd18Target 2: 23.14482\\n\\ud83d\\udd18Target 3: 23.37173\\n\\ud83d\\udd18Target 4: 23.59864\\n\\ud83d\\udd18Target 5: 23.82555\\n\\ud83d\\udd18Target 6: 24.05246\\n\\n\\ud83d\\udeabStop Loss: 22.23718\",\"entities\":[{\"offset\":2,\"length\":12,\"type\":\"hashtag\"}]}}\n"
          ]
        }
      ]
    },
    {
      "cell_type": "markdown",
      "source": [
        "send sample msg to source channel"
      ],
      "metadata": {
        "id": "-STmecdJ6Tse"
      }
    },
    {
      "cell_type": "code",
      "source": [
        "import requests\n",
        "import json\n",
        "\n",
        "base_url = \"https://api.telegram.org/bot5319312424:AAGc_iud0qd8-QTcZSpq1Jhqb-fwkJgyurE/sendMessage\"\n",
        "# msg ={ \n",
        "#   \"id\": \"04\", \n",
        "#   \"name\": \"sunil\", \n",
        "#   \"department\": \"HR\"\n",
        "# }\n",
        " msg=\"this is python generated msg\"\n",
        "# Serializing json  \n",
        "json_object = json.dumps(msg, indent = 4) \n",
        "print(json_object)\n",
        "print(\"++++++++++++++++next ++++++++++++++++++++++++++++\")\n",
        "parameters = {\n",
        "    \"chat_id\" : \"-1001781127688\",\n",
        "    \"text\" : \"\"\"\n",
        "    \\U0001F4B0 :s:\n",
        "\\U0001F4DC Cs:\n",
        "\\U0001F4C8 Ds:\n",
        "\\U0001F4C8 U\n",
        "\\U0001F510 :Li\n",
        "\\U0001F984 Un\t\"\"\"\n",
        "}\n",
        "\n",
        "resp = requests.get(base_url, data = parameters)\n",
        "print(resp.text)\n"
      ],
      "metadata": {
        "colab": {
          "base_uri": "https://localhost:8080/"
        },
        "id": "aYdGVP6F25z1",
        "outputId": "75e622f6-9271-44c6-f2d9-053b0be4eaa1"
      },
      "execution_count": null,
      "outputs": [
        {
          "output_type": "stream",
          "name": "stdout",
          "text": [
            "{\n",
            "    \"id\": \"04\",\n",
            "    \"name\": \"sunil\",\n",
            "    \"department\": \"HR\"\n",
            "}\n",
            "++++++++++++++++next ++++++++++++++++++++++++++++\n",
            "{\"ok\":true,\"result\":{\"message_id\":6,\"sender_chat\":{\"id\":-1001781127688,\"title\":\"Source\",\"type\":\"channel\"},\"chat\":{\"id\":-1001781127688,\"title\":\"Source\",\"type\":\"channel\"},\"date\":1653645629,\"text\":\"{\\n    \\\"id\\\": \\\"04\\\",\\n    \\\"name\\\": \\\"sunil\\\",\\n    \\\"department\\\": \\\"HR\\\"\\n}\"}}\n"
          ]
        }
      ]
    },
    {
      "cell_type": "code",
      "source": [
        ""
      ],
      "metadata": {
        "id": "uBEguFno2HWV"
      },
      "execution_count": null,
      "outputs": []
    }
  ]
}